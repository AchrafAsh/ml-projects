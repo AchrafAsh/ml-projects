{
  "nbformat": 4,
  "nbformat_minor": 0,
  "metadata": {
    "colab": {
      "name": "image_detection.ipynb",
      "provenance": [],
      "authorship_tag": "ABX9TyNpcrRxz40kOmtauMDCf5oO",
      "include_colab_link": true
    },
    "kernelspec": {
      "name": "python3",
      "display_name": "Python 3"
    },
    "language_info": {
      "name": "python"
    }
  },
  "cells": [
    {
      "cell_type": "markdown",
      "metadata": {
        "id": "view-in-github",
        "colab_type": "text"
      },
      "source": [
        "<a href=\"https://colab.research.google.com/github/AchrafAsh/ml_projects/blob/main/image_detection_yolo.ipynb\" target=\"_parent\"><img src=\"https://colab.research.google.com/assets/colab-badge.svg\" alt=\"Open In Colab\"/></a>"
      ]
    },
    {
      "cell_type": "code",
      "metadata": {
        "id": "BhaHsnENb4d2"
      },
      "source": [
        "from collections import Counter\n",
        "import torch\n",
        "import torch.nn as nn\n",
        "import torch.nn.functional as F"
      ],
      "execution_count": 58,
      "outputs": []
    },
    {
      "cell_type": "code",
      "metadata": {
        "id": "vh91TeYWebpW"
      },
      "source": [
        "def intersection_over_union(box_preds, box_labels, box_format=\"midpoint\"):\n",
        "    \"\"\"\n",
        "    Calculates the intersection over union\n",
        "\n",
        "    Parameters:\n",
        "        box_preds (tensor): Predictions of Bounding boxes (BATCH_SIZE, 4)\n",
        "        box_labels (tensor): Correct labels of Bounding boxes (BATCH_SIZE, 4)\n",
        "        box_format (str): midpoint/corners, if boxes (x, y, w, h) or (x1, y1, x2, y2)\n",
        "    \"\"\"\n",
        "\n",
        "    if box_format == \"midpoint\":\n",
        "        box1_x1 = box_preds[..., 0:1] - box_preds[..., 2:3] / 2\n",
        "        box1_y1 = box_preds[..., 1:2] - box_preds[..., 3:4] / 2\n",
        "        box1_x2 = box_preds[..., 2:3] + box_preds[..., 2:3] / 2\n",
        "        box1_y2 = box_preds[..., 3:4] + box_preds[..., 3:4] / 2\n",
        "\n",
        "        box2_x1 = box_labels[..., 0:1] - box_labels[..., 2:3] / 2\n",
        "        box2_y1 = box_labels[..., 1:2] - box_labels[..., 3:4] / 2\n",
        "        box2_x2 = box_labels[..., 2:3] + box_labels[..., 2:3] / 2\n",
        "        box2_y2 = box_labels[..., 3:4] + box_labels[..., 3:4] / 2\n",
        "\n",
        "    elif box_format == \"corners\":\n",
        "        box1_x1 = box_preds[..., 0:1]\n",
        "        box1_y1 = box_preds[..., 1:2]\n",
        "        box1_x2 = box_preds[..., 2:3]\n",
        "        box1_y2 = box_preds[..., 3:4]\n",
        "\n",
        "        box2_x1 = box_labels[..., 0:1]\n",
        "        box2_y1 = box_labels[..., 1:2]\n",
        "        box2_x2 = box_labels[..., 2:3]\n",
        "        box2_y2 = box_labels[..., 3:4]\n",
        "    \n",
        "    x1 = torch.max(box1_x1, box2_x1)\n",
        "    y1 = torch.max(box1_y1, box2_y1)\n",
        "    x2 = torch.min(box1_x2, box2_x2)\n",
        "    y2 = torch.min(box1_y2, box2_y2)\n",
        "\n",
        "    intersection = (x2 - x1).clamp(0) * (y2 - y1).clamp(0) # clamp for when the intersection is empty\n",
        "\n",
        "    box1_area = abs((box1_x2 - box1_x1) * (box1_y2 - box1_y1))\n",
        "    box2_area = abs((box2_x2 - box2_x1) * (box2_y2 - box2_y1))\n",
        "    union = box1_area + box2_area - intersection\n",
        "\n",
        "    return intersection / (union + 1e-6) # 1e-6 for stability"
      ],
      "execution_count": 2,
      "outputs": []
    },
    {
      "cell_type": "code",
      "metadata": {
        "id": "RaU37HnbiITh"
      },
      "source": [
        "def non_max_suppression(box_preds, iou_threshold, \n",
        "                        confidence_threshold, box_format=\"corners\"):\n",
        "    # box_preds = [[class, confidence, x1, y1, x2, y2], [], ...]\n",
        "    assert type(box_preds) == list\n",
        "    \n",
        "    bboxes = [box for box in box_preds if box[1] > confidence_threshold]\n",
        "    bboxes = sorted(bboxes, keys=lambda x: x[1], reverse=True)\n",
        "\n",
        "    bboxes_after_nms = []\n",
        "    while bboxes:\n",
        "        chosen_box = bboxes.pop(0)\n",
        "        bboxes = [box for box in bboxes \n",
        "                  if box[0] != chosen_box[0] \n",
        "                  or intersection_over_union(torch.tensor(chosen_box[2:]),\n",
        "                                             torch.tensor(box[2:]),\n",
        "                                             box_format=box_format)\n",
        "                  < iou_threshold]\n",
        "        bboxes_after_nms.append(chosen_box)\n",
        "    \n",
        "    return bboxes_after_nms"
      ],
      "execution_count": 5,
      "outputs": []
    },
    {
      "cell_type": "code",
      "metadata": {
        "id": "BhmCkhNPj3rG"
      },
      "source": [
        "# Mean Average Precision mAP\n",
        "def mean_average_precision(box_preds, box_labels, iou_threshold=0.5,\n",
        "                           box_format=\"corners\", num_classes=20):\n",
        "    # box_preds = [[train_idx, class_pred, confidence, x1, y1, x2, y2], ...]\n",
        "    average_precisions = []\n",
        "\n",
        "    for c in range(num_classes):\n",
        "        detections = []\n",
        "        ground_truths = []\n",
        "\n",
        "        for detection in box_preds:\n",
        "            if detection[1] == c: detections.append(detection)\n",
        "            \n",
        "        for true_box in box_labels:\n",
        "            if true_box[1] == c: ground_truths.append(true_box)\n",
        "        \n",
        "        amount_bboxes = Counter([gt[0] for gt in ground_truths])\n",
        "\n",
        "        for key, val in amount_bboxes.items():\n",
        "            amount_bboxes[key] = torch.zeros(val)\n",
        "        \n",
        "        detections.sort(key=lambda x: x[2], reverse=True)\n",
        "        TP = torch.zeros((len(detections)))\n",
        "        FP = torch.zeros((len(detections)))\n",
        "        total_true_bboxes = len(ground_truths)\n",
        "\n",
        "        for detection_idx, detection in enumerate(detections):\n",
        "            ground_truth_img = [\n",
        "                bbox for bbox in ground_truths if bbox[0] == detection[0]\n",
        "            ]\n",
        "\n",
        "            num_gts = len(ground_truth_img)\n",
        "            best_iou = 0\n",
        "\n",
        "            for idx, gt in enumerate(ground_truth_img):\n",
        "                iou = intersection_over_union(\n",
        "                    torch.tensor(detection[3:]),\n",
        "                    torch.tensor(gt[3:]),\n",
        "                    box_format=box_format\n",
        "                )\n",
        "\n",
        "                if iou > best_iou:\n",
        "                    best_iou = iou\n",
        "                    best_gt_idx = idx\n",
        "\n",
        "            if best_iou > iou_threshold:\n",
        "                if amount_bboxes[detection[0]][best_gt_idx] == 0:\n",
        "                    TP[detection_idx] = 1\n",
        "                    amount_bboxes[detection[0]][best_gt_idx] = 1\n",
        "                else:\n",
        "                    FP[detection_idx] = 1\n",
        "                \n",
        "            else:\n",
        "                FP[detection_idx] = 1\n",
        "\n",
        "        TP_cumsum = torch.cumsum(TP, dim=0)\n",
        "        FP_cumsum = torch.cumsum(FP, dim=0)\n",
        "\n",
        "        recalls = TP_cumsum / (total_true_bboxes + 1e-6)\n",
        "        precisions = torch.divide(TP_cumsum, (TP_cumsum + FP_cumsum + 1e-6))\n",
        "        # Add the origin to compute the area below the graph precisions = f(recalls)\n",
        "        precisions = torch.cat(torch.tensor([1]), precisions)\n",
        "        recalls = torch.cat(torch.tensor([0]), recalls)\n",
        "\n",
        "        average_precisions.append(torch.trapz(precisions, recalls))\n",
        "    \n",
        "    return sum(average_precisions) / len(average_precisions)"
      ],
      "execution_count": 6,
      "outputs": []
    },
    {
      "cell_type": "code",
      "metadata": {
        "id": "7pQprsS_SL6d"
      },
      "source": [
        "architecture_config = [\n",
        "    (7, 64, 2, 3),\n",
        "    \"M\",\n",
        "    (3, 192, 1, 1),\n",
        "    \"M\",\n",
        "    (1, 128, 1, 0),\n",
        "    (3, 256, 1, 1),\n",
        "    (1, 256, 1, 0),\n",
        "    (3, 512, 1, 1),\n",
        "    \"M\",\n",
        "    [(1, 256, 1, 0), (3, 512, 1, 1), 4],\n",
        "    (1, 512, 1, 0),\n",
        "    (3, 1024, 1, 1),\n",
        "    \"M\",\n",
        "    [(1, 512, 1, 0), (3, 1024, 1, 1), 2],\n",
        "    (3, 1024, 1, 1),\n",
        "    (3, 1024, 2, 1),\n",
        "    (3, 1024, 1, 1),\n",
        "    (3, 1024, 1, 1),\n",
        "]"
      ],
      "execution_count": 49,
      "outputs": []
    },
    {
      "cell_type": "code",
      "metadata": {
        "id": "SQivU3dYTGn1"
      },
      "source": [
        "class CNNBlock(nn.Module):\n",
        "    def __init__(self, in_channels, out_channels, **kwargs):\n",
        "        super(CNNBlock, self).__init__()\n",
        "        self.cnn = nn.Conv2d(in_channels, out_channels, bias=False, **kwargs)\n",
        "        self.batch_norm = nn.BatchNorm2d(out_channels)\n",
        "        self.leaky_relu = nn.LeakyReLU(0.1)\n",
        "    \n",
        "    def forward(self, x):\n",
        "        return self.leaky_relu(self.batch_norm(self.cnn(x)))"
      ],
      "execution_count": 50,
      "outputs": []
    },
    {
      "cell_type": "code",
      "metadata": {
        "id": "TeW8BZbpT8xi"
      },
      "source": [
        "class Yolo(nn.Module):\n",
        "    def __init__(self, in_channels, split_size, num_boxes, num_classes):\n",
        "        super(Yolo, self).__init__()\n",
        "        self.architecture = architecture_config\n",
        "        self.in_channels = in_channels\n",
        "        self.darknet = self._create_conv_layers(self.architecture)\n",
        "        self.fcs = self._create_fcs(split_size, num_boxes, num_classes)\n",
        "    \n",
        "    def _create_conv_layers(self, architecture):\n",
        "        layers = []\n",
        "        in_channels = self.in_channels\n",
        "\n",
        "        for x in architecture:\n",
        "            if type(x) == tuple: \n",
        "                layers += [CNNBlock(in_channels, \n",
        "                                    out_channels=x[1], \n",
        "                                    kernel_size=x[0], \n",
        "                                    stride=x[2], \n",
        "                                    padding=x[3])]\n",
        "                in_channels = x[1]\n",
        "\n",
        "            elif type(x) == str: \n",
        "                layers+= [nn.MaxPool2d(kernel_size=(2,2), stride=(2,2))]\n",
        "\n",
        "            elif type(x) == list:\n",
        "                conv1 = x[0]\n",
        "                conv2 = x[1]\n",
        "                num_repeats = x[2]\n",
        "\n",
        "                for _ in range(num_repeats):\n",
        "                    layers += [CNNBlock(in_channels, \n",
        "                                        conv1[1],\n",
        "                                        kernel_size=conv1[0],\n",
        "                                        stride=conv1[2],\n",
        "                                        padding=conv1[3])]\n",
        "                    in_channels = conv1[1]\n",
        "                    \n",
        "                    layers += [CNNBlock(in_channels, \n",
        "                                        conv2[1],\n",
        "                                        kernel_size=conv2[0],\n",
        "                                        stride=conv2[2],\n",
        "                                        padding=conv2[3])]\n",
        "                    \n",
        "                    in_channels = conv2[1]\n",
        "        \n",
        "        return nn.Sequential(*layers)\n",
        "\n",
        "    def _create_fcs(self, split_size, num_boxes, num_classes):\n",
        "        S, B, C = split_size, num_boxes, num_classes\n",
        "        return nn.Sequential(nn.Flatten(), \n",
        "                             nn.Linear(1024 * S * S, 496),\n",
        "                             nn.Dropout(0.0),\n",
        "                             nn.LeakyReLU(0.1),\n",
        "                             nn.Linear(496, S*S*(C+B * 5)))\n",
        "\n",
        "    def forward(self, x):\n",
        "        x = self.darknet(x)\n",
        "        return self.fcs(torch.flatten(x, start_dim=1))"
      ],
      "execution_count": 54,
      "outputs": []
    },
    {
      "cell_type": "code",
      "metadata": {
        "id": "43o_rGF4X9-9"
      },
      "source": [
        "def test(in_channels=3, split_size=7, num_boxes=2, num_classes=20):\n",
        "    model = Yolo(in_channels, split_size, num_boxes, num_classes)\n",
        "    x = torch.randn((2, 3, 448, 448))\n",
        "    print(model(x).shape)"
      ],
      "execution_count": 55,
      "outputs": []
    },
    {
      "cell_type": "code",
      "metadata": {
        "id": "VlmrjLwTYls4",
        "outputId": "3fd8a384-cab9-4f5a-b4a5-51c704e361ff",
        "colab": {
          "base_uri": "https://localhost:8080/"
        }
      },
      "source": [
        "class YoloLoss(nn.Module):\n",
        "    def __init__(self, split_size=7, num_boxes=2, num_classes=20):\n",
        "        super(YoloLoss, self).__init__()\n",
        "        self.mse = nn.MSELoss(reduction=\"sum\")\n",
        "        self.split_size = split_size\n",
        "        self.num_boxes = num_boxes\n",
        "        self.num_classes = num_classes\n",
        "        self.lambda_noobj = .5\n",
        "        self.lambda_coord = 5\n",
        "    \n",
        "    def forward(self, preds, target):\n",
        "        preds = preds.reshape(-1, self.split_size, self.split_size,\n",
        "                              self.num_classes + self.num_boxes*5)\n",
        "        iou_b1 = intersection_over_union(preds[..., 21:25], target[..., 21:25])\n",
        "        iou_b2 = intersection_over_union(preds[..., 26:30], target[..., 21:25])\n",
        "        ious = torch.cat([iou_b1.unsqueeze(0), iou_b2.unsqueeze(0)], dim=0)\n",
        "\n",
        "        iou_maxes, best_box = torch.max(ious, dim=0)\n",
        "        exists_box = target[..., 20].unsqueeze(3)"
      ],
      "execution_count": 56,
      "outputs": [
        {
          "output_type": "stream",
          "text": [
            "torch.Size([2, 1470])\n"
          ],
          "name": "stdout"
        }
      ]
    }
  ]
}