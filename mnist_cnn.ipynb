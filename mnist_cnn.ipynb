{
  "nbformat": 4,
  "nbformat_minor": 0,
  "metadata": {
    "colab": {
      "name": "image_classification.ipynb",
      "provenance": [],
      "collapsed_sections": [],
      "authorship_tag": "ABX9TyPfnhPRwyqfF2C34fDQJn2l",
      "include_colab_link": true
    },
    "kernelspec": {
      "name": "python3",
      "display_name": "Python 3"
    },
    "language_info": {
      "name": "python"
    }
  },
  "cells": [
    {
      "cell_type": "markdown",
      "metadata": {
        "id": "view-in-github",
        "colab_type": "text"
      },
      "source": [
        "<a href=\"https://colab.research.google.com/github/AchrafAsh/ml_projects/blob/main/mnist_cnn.ipynb\" target=\"_parent\"><img src=\"https://colab.research.google.com/assets/colab-badge.svg\" alt=\"Open In Colab\"/></a>"
      ]
    },
    {
      "cell_type": "markdown",
      "metadata": {
        "id": "s8Hqvpygtg9z"
      },
      "source": [
        "## TODO\n",
        "\n",
        "- [x] Image processing: Normalization\n",
        "- [x] Visualize the data\n",
        "- [ ] Transfer learning: VGG19 + change last fc layer\n",
        "- [ ] Image augmentation (⚠️ don't rotate images as they might look like another digit)\n",
        "- [ ] Add batch normalization\n",
        "- [ ] Add dropouts\n",
        "- [ ] Learning rate scheduler\n",
        "- [ ] Switch to GPU\n",
        "- [ ] Xavier weight initialization\n",
        "\n",
        "<br/>\n",
        "\n",
        "## Architecture\n",
        "1. 2D convolutional layer\n",
        "2. Relu\n",
        "3. Dense layer\n",
        "4. Sigmoid\n",
        "\n",
        "Conv2D (same for max pooling): \n",
        "$$ H_{out} = \\frac{H_{in} + 2 \\times padding[0] - dilation[0] \\times (kernel\\_size[0] - 1) - 1}{stride[0]} + 1 $$\n",
        "\n",
        "$$ W_{out} = \\frac{W_{in} + 2  \\times padding[1] - dilation[1] \\times (kernel\\_size[1] - 1) - 1}{stride[1]} + 1 $$"
      ]
    },
    {
      "cell_type": "markdown",
      "metadata": {
        "id": "N58po09Dr1cp"
      },
      "source": [
        "# Introduction\n",
        "\n",
        "Using CNN and image processing to solve the classic MNIST classification problem."
      ]
    },
    {
      "cell_type": "code",
      "metadata": {
        "id": "oAMD1b1asByU"
      },
      "source": [
        "import os\n",
        "import pandas as pd\n",
        "import numpy as np\n",
        "import matplotlib.pyplot as plt\n",
        "\n",
        "import torch\n",
        "import torch.nn as nn\n",
        "import torch.nn.functional as F\n",
        "from torch.utils.data import Dataset, DataLoader\n",
        "import torchvision.transforms as transforms\n",
        "from google.colab import drive"
      ],
      "execution_count": null,
      "outputs": []
    },
    {
      "cell_type": "code",
      "metadata": {
        "id": "84nHVKSzJe-q"
      },
      "source": [
        "device = \"gpu\" if torch.cuda.is_available() else \"cpu\""
      ],
      "execution_count": null,
      "outputs": []
    },
    {
      "cell_type": "code",
      "metadata": {
        "id": "BCCqHnhYIZom"
      },
      "source": [
        "import random\n",
        "# reproducible results\n",
        "def set_seed(args):\n",
        "    random.seed(args.seed)\n",
        "    np.random.seed(args.seed)\n",
        "    torch.manual_seed(args.seed)\n",
        "    if args.n_gpu > 0:\n",
        "        torch.cuda.manual_seed_all(args.seed)\n",
        "\n",
        "class args:\n",
        "    seed = 123\n",
        "    n_gpu = 0\n",
        "\n",
        "set_seed(args)"
      ],
      "execution_count": null,
      "outputs": []
    },
    {
      "cell_type": "markdown",
      "metadata": {
        "id": "7pyeUUa6xX-7"
      },
      "source": [
        "## Prepare the data\n",
        "\n",
        "The data is in a csv file where each column is a pixel of the image (gray scale).\n",
        "Let's create a custom dataset to rebuild the image from the csv data."
      ]
    },
    {
      "cell_type": "code",
      "metadata": {
        "id": "yCFST4tp3ZgQ"
      },
      "source": [
        "class MNISTDataset(Dataset):\n",
        "    def __init__(self, root_dir, filename, transform, nrows):\n",
        "        self.root_dir = root_dir\n",
        "        self.transform = transform\n",
        "        self.df = pd.read_csv(os.path.join(root_dir, filename), nrows=nrows)\n",
        "        self.labels = self.df[\"label\"]\n",
        "        self.images = self.df.iloc[:, 1:]\n",
        "\n",
        "    def __len__(self): return len(self.df)\n",
        "\n",
        "    @staticmethod\n",
        "    def build_image(pix_arr):\n",
        "        \"\"\"Takes a 1D array of pixels and returns a 2D tensor\"\"\"\n",
        "        image = torch.tensor(pix_arr).float()\n",
        "        image = torch.reshape(image, (1, 28, 28))\n",
        "        return image\n",
        "    \n",
        "    @staticmethod\n",
        "    def show_image(tensor):\n",
        "        tensor = torch.reshape(tensor, (28,28))\n",
        "        npimg = tensor.numpy()\n",
        "        plt.imshow(npimg)\n",
        "\n",
        "    def __getitem__(self, idx):\n",
        "        label = torch.tensor(self.labels.loc[idx])\n",
        "        image = self.build_image(self.images.loc[idx])\n",
        "        if self.transform:\n",
        "            image = self.transform(image)\n",
        "        return image, label"
      ],
      "execution_count": null,
      "outputs": []
    },
    {
      "cell_type": "code",
      "metadata": {
        "id": "cAHwa6Aq6NNH"
      },
      "source": [
        "def get_loader(batch_size, train=True, num_workers=1, pin_memory=True, transform=None, nrows=None):\n",
        "    drive.mount(\"/content/gdrive\")\n",
        "\n",
        "    root_dir = \"gdrive/My Drive/Projects/data/mnist\"\n",
        "    if train: filename = \"train.csv\"\n",
        "    else: filename = \"test.csv\"\n",
        "\n",
        "    dataset = MNISTDataset(root_dir, filename, transform=transform, nrows=nrows)\n",
        "    dataloader = DataLoader(dataset=dataset, batch_size=batch_size,\n",
        "                            num_workers=num_workers, shuffle=train,\n",
        "                            pin_memory=pin_memory)\n",
        "\n",
        "    return dataset, dataloader"
      ],
      "execution_count": null,
      "outputs": []
    },
    {
      "cell_type": "markdown",
      "metadata": {
        "id": "iv4djwwkBdCw"
      },
      "source": [
        "Normalization:\n",
        "- mean\n",
        "- standard deviation\n",
        "\n",
        "Let's calculate these values"
      ]
    },
    {
      "cell_type": "code",
      "metadata": {
        "id": "5FKJPVcfBlUI",
        "colab": {
          "base_uri": "https://localhost:8080/"
        },
        "outputId": "39f1402b-589d-453d-b9f4-93139e711d0c"
      },
      "source": [
        "drive.mount(\"/content/gdrive\")\n",
        "root_dir = \"gdrive/My Drive/Projects/data/mnist\"\n",
        "\n",
        "df = pd.read_csv(os.path.join(root_dir, \"train.csv\"))\n",
        "pixels = df.iloc[:, 1:]\n",
        "sd = pixels.stack().std()\n",
        "mean = pixels.stack().mean()\n",
        "print(f\"mean: {mean} | standard deviation: {sd}\")"
      ],
      "execution_count": null,
      "outputs": [
        {
          "output_type": "stream",
          "text": [
            "Mounted at /content/gdrive\n",
            "mean: 33.408911169825075 | standard deviation: 78.67774094209487\n"
          ],
          "name": "stdout"
        }
      ]
    },
    {
      "cell_type": "markdown",
      "metadata": {
        "id": "87MOiR0yoz52"
      },
      "source": [
        "## Visualize the data\n",
        "\n",
        "We want our dataset to be well distributed, i.e each label should have roughly the same number of observations. To verify this hypothesis, let's plot a barplot of the number of datapoint per label (from 0 to 9)."
      ]
    },
    {
      "cell_type": "code",
      "metadata": {
        "id": "O75ohpPeo3fJ"
      },
      "source": [
        "import seaborn as sns\n",
        "dataset, dataloader = get_loader(batch_size=1)"
      ],
      "execution_count": null,
      "outputs": []
    },
    {
      "cell_type": "code",
      "metadata": {
        "id": "UTUzat2wpcPH"
      },
      "source": [
        "dataset[0][1].item()\n",
        "y = [0] * 10\n",
        "for i in range(len(dataset)):\n",
        "    label = dataset[i][1].item()\n",
        "    y[label] += 1"
      ],
      "execution_count": null,
      "outputs": []
    },
    {
      "cell_type": "code",
      "metadata": {
        "id": "iGqVrLAfp-Dm",
        "colab": {
          "base_uri": "https://localhost:8080/",
          "height": 312
        },
        "outputId": "0e4acb04-c2d3-4c9c-b684-6cd1c0631316"
      },
      "source": [
        "ax = sns.barplot(x=np.arange(0,10), y=y)\n",
        "ax.set(title=\"Label distribution\", xlabel=\"Label\", ylabel=\"Observations\")\n",
        "ax.axhline(np.mean(y), ls='--', color=\"red\")"
      ],
      "execution_count": null,
      "outputs": [
        {
          "output_type": "execute_result",
          "data": {
            "text/plain": [
              "<matplotlib.lines.Line2D at 0x7f8508ac43d0>"
            ]
          },
          "metadata": {
            "tags": []
          },
          "execution_count": 41
        },
        {
          "output_type": "display_data",
          "data": {
            "image/png": "[encoded data removed]",
            "text/plain": [
              "<Figure size 432x288 with 1 Axes>"
            ]
          },
          "metadata": {
            "tags": [],
            "needs_background": "light"
          }
        }
      ]
    },
    {
      "cell_type": "markdown",
      "metadata": {
        "id": "pi-s6jCAsqDv"
      },
      "source": [
        "We can reasonably say that our dataset is uniformly distributed (red line represents the mean). Label 5 is under-represented and the label 1 is over-represented."
      ]
    },
    {
      "cell_type": "markdown",
      "metadata": {
        "id": "ID1_aY2N_Pye"
      },
      "source": [
        "# Model definition"
      ]
    },
    {
      "cell_type": "code",
      "metadata": {
        "id": "P8-sjwHTsFTF"
      },
      "source": [
        "class MNISTClassifier(nn.Module):\n",
        "    def __init__(self):\n",
        "        super(MNISTClassifier, self).__init__()\n",
        "        self.conv = nn.Conv2d(in_channels=1, out_channels=1, kernel_size=19, stride=1, padding=0) # output (batch_size, 1, )\n",
        "        self.dense = nn.Linear(in_features=10, out_features=1)\n",
        "        self.batch_norm = nn.BatchNorm2d(num_features=1)\n",
        "    \n",
        "    def forward(self, image):\n",
        "        batch_size = image.shape[0]\n",
        "        output = F.relu(self.batch_norm(self.conv(image)))\n",
        "        output = self.batch_norm(self.dense(output))\n",
        "        output = torch.reshape(output, (batch_size, 10))\n",
        "        output = F.softmax(output, dim=1)\n",
        "        return output\n",
        "        \n",
        "    def fit(self, dataset, num_epochs, lr, device=\"cpu\"):\n",
        "        optimizer = torch.optim.SGD(self.parameters(), lr=lr)\n",
        "        criterion = nn.CrossEntropyLoss()\n",
        "\n",
        "        for epoch in range(num_epochs):\n",
        "            total_loss = 0\n",
        "            accuracy = 0\n",
        "\n",
        "            for _, (images, targets) in enumerate(dataset):\n",
        "                images = images.to(device)\n",
        "                labels = self.forward(images)\n",
        "                \n",
        "                loss = criterion(labels, targets)\n",
        "                accuracy = sum(torch.argmax(labels, dim=1) == targets)\n",
        "\n",
        "                optimizer.zero_grad()\n",
        "                loss.backward()\n",
        "                optimizer.step()\n",
        "                \n",
        "                total_loss += loss\n",
        "            \n",
        "            if (epoch % 1 == 0): print(f\"epoch [{epoch+1} / {num_epochs}] | total loss: {total_loss} | accuracy: {accuracy / (len(dataset) * dataset.batch_size)}\")\n"
      ],
      "execution_count": null,
      "outputs": []
    },
    {
      "cell_type": "markdown",
      "metadata": {
        "id": "fedEwLGG_YLw"
      },
      "source": [
        "## Train the model"
      ]
    },
    {
      "cell_type": "code",
      "metadata": {
        "id": "REFPDN12_cFu"
      },
      "source": [
        "# Parameters\n",
        "BATCH_SIZE=12\n",
        "NUM_EPOCHS=2\n",
        "LEARNING_RATE=0.01"
      ],
      "execution_count": null,
      "outputs": []
    },
    {
      "cell_type": "markdown",
      "metadata": {
        "id": "E2Eg3kPl_U2e"
      },
      "source": [
        "### Load the data"
      ]
    },
    {
      "cell_type": "code",
      "metadata": {
        "colab": {
          "base_uri": "https://localhost:8080/",
          "height": 163
        },
        "id": "397Hx-wR_XL4",
        "outputId": "20a83f15-8102-4ee0-91b6-2081b611e799"
      },
      "source": [
        "dataset, dataloader = get_loader(batch_size=BATCH_SIZE, transform=transforms.Normalize(mean, sd), nrows=2000)"
      ],
      "execution_count": null,
      "outputs": [
        {
          "output_type": "error",
          "ename": "NameError",
          "evalue": "ignored",
          "traceback": [
            "\u001b[0;31m---------------------------------------------------------------------------\u001b[0m",
            "\u001b[0;31mNameError\u001b[0m                                 Traceback (most recent call last)",
            "\u001b[0;32m<ipython-input-43-d4c38073bec6>\u001b[0m in \u001b[0;36m<module>\u001b[0;34m()\u001b[0m\n\u001b[0;32m----> 1\u001b[0;31m \u001b[0mdataset\u001b[0m\u001b[0;34m,\u001b[0m \u001b[0mdataloader\u001b[0m \u001b[0;34m=\u001b[0m \u001b[0mget_loader\u001b[0m\u001b[0;34m(\u001b[0m\u001b[0mbatch_size\u001b[0m\u001b[0;34m=\u001b[0m\u001b[0mBATCH_SIZE\u001b[0m\u001b[0;34m,\u001b[0m \u001b[0mtransform\u001b[0m\u001b[0;34m=\u001b[0m\u001b[0mtransforms\u001b[0m\u001b[0;34m.\u001b[0m\u001b[0mNormalize\u001b[0m\u001b[0;34m(\u001b[0m\u001b[0mmean\u001b[0m\u001b[0;34m,\u001b[0m \u001b[0msd\u001b[0m\u001b[0;34m)\u001b[0m\u001b[0;34m,\u001b[0m \u001b[0mnrows\u001b[0m\u001b[0;34m=\u001b[0m\u001b[0;36m2000\u001b[0m\u001b[0;34m)\u001b[0m\u001b[0;34m\u001b[0m\u001b[0;34m\u001b[0m\u001b[0m\n\u001b[0m",
            "\u001b[0;31mNameError\u001b[0m: name 'BATCH_SIZE' is not defined"
          ]
        }
      ]
    },
    {
      "cell_type": "code",
      "metadata": {
        "colab": {
          "base_uri": "https://localhost:8080/",
          "height": 298
        },
        "id": "OIfHQtkpAB-O",
        "outputId": "6016d3fe-3e7e-47bc-d1d8-f7e771a10195"
      },
      "source": [
        "image, label = dataset[0]\n",
        "dataset.show_image(image)\n",
        "plt.title(label.item())"
      ],
      "execution_count": null,
      "outputs": [
        {
          "output_type": "execute_result",
          "data": {
            "text/plain": [
              "Text(0.5, 1.0, '1')"
            ]
          },
          "metadata": {
            "tags": []
          },
          "execution_count": 37
        },
        {
          "output_type": "display_data",
          "data": {
            "image/png": "[encoded data removed]",
            "text/plain": [
              "<Figure size 432x288 with 1 Axes>"
            ]
          },
          "metadata": {
            "tags": [],
            "needs_background": "light"
          }
        }
      ]
    },
    {
      "cell_type": "code",
      "metadata": {
        "id": "4zztY1PqBOpH"
      },
      "source": [
        "model = MNISTClassifier().to(device)"
      ],
      "execution_count": null,
      "outputs": []
    },
    {
      "cell_type": "code",
      "metadata": {
        "colab": {
          "base_uri": "https://localhost:8080/"
        },
        "id": "AMaPl-OuB1xa",
        "outputId": "63b98b42-3aba-4aff-ea26-46376d9e5504"
      },
      "source": [
        "model.fit(dataloader, num_epochs=NUM_EPOCHS, lr=LEARNING_RATE, device=device)"
      ],
      "execution_count": null,
      "outputs": [
        {
          "output_type": "stream",
          "text": [
            "epoch [1 / 2] | total loss: 11492.09375 | accuracy: 2.380952355451882e-05\n",
            "epoch [2 / 2] | total loss: 11356.841796875 | accuracy: 9.523809421807528e-05\n"
          ],
          "name": "stdout"
        }
      ]
    }
  ]
}