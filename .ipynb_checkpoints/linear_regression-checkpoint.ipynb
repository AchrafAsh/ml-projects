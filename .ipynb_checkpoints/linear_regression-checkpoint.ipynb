{
 "cells": [
  {
   "cell_type": "code",
   "execution_count": 2,
   "metadata": {},
   "outputs": [],
   "source": [
    "import numpy as np\n",
    "from sklearn.model_selection import train_test_split\n",
    "from sklearn import datasets\n",
    "import seaborn as sns"
   ]
  },
  {
   "cell_type": "code",
   "execution_count": 28,
   "metadata": {},
   "outputs": [
    {
     "name": "stdout",
     "output_type": "stream",
     "text": [
      "X: (80, 1) | y: (80,)\n"
     ]
    },
    {
     "data": {
      "image/png": "[encoded data removed]",
      "text/plain": [
       "<Figure size 432x288 with 1 Axes>"
      ]
     },
     "metadata": {
      "needs_background": "light"
     },
     "output_type": "display_data"
    }
   ],
   "source": [
    "X, y = datasets.make_regression(n_samples=100, n_features=1,\n",
    "                                noise=20, random_state=4)\n",
    "X_train, X_test, y_train, y_test = train_test_split(X, y,\n",
    "                                                    test_size=.2,\n",
    "                                                    random_state=1234)\n",
    "\n",
    "sns.scatterplot(x=X[:,0], y=y, color=\"b\", marker=\"o\", s=30)\n",
    "\n",
    "print(f\"X: {X_train.shape} | y: {y_train.shape}\")"
   ]
  },
  {
   "cell_type": "code",
   "execution_count": 89,
   "metadata": {},
   "outputs": [],
   "source": [
    "class LinearRegression:\n",
    "    def __init__(self, lr=.001, n_iter=100):\n",
    "        self.lr = lr\n",
    "        self.slope = None\n",
    "        self.intercept = None\n",
    "        \n",
    "    def fit(self, x, y, epochs, method=\"batch\", batch_size=None):\n",
    "        \"\"\"Batch Gradient descent method\"\"\"\n",
    "        \n",
    "        #init parameters\n",
    "        n_samples, n_features = x.shape\n",
    "        self.slope = np.zeros(n_features)\n",
    "        self.intercept = 0\n",
    "        \n",
    "        if (method == \"batch\"):\n",
    "            for _ in range(epochs):\n",
    "                y_pred = self.predict(x)\n",
    "\n",
    "                dw = (1/n_samples) * np.dot(x.T, (y_pred - y))\n",
    "                db = (1/n_samples) * np.sum(y_pred - y)\n",
    "\n",
    "                self.slope -= self.lr * dw\n",
    "                self.intercept -= self.lr * db\n",
    "        \n",
    "        if (method == \"sgd\"):\n",
    "            for _ in range(epochs):\n",
    "                for i in range(n_samples):\n",
    "                    y_pred = self.predict(x[i, 0])\n",
    "                    \n",
    "                    dw = -np.dot(x[i, 0], (y[i] - y_pred))\n",
    "                    db = - (y[i] - y_pred)\n",
    "                    \n",
    "                    self.slope -= self.lr * dw\n",
    "                    self.intercept -= self.lr * db\n",
    "        \n",
    "        if (method == \"mini-batch\"):\n",
    "            if (n_samples % batch_size != 0): raise ValueError(\"batch_size should divide n_samples\")\n",
    "            for _ in range(epochs):\n",
    "                for i in range(0, n_samples, batch_size):\n",
    "                    \n",
    "                    y_pred = self.predict(x[i:i+batch_size])\n",
    "                    \n",
    "                    dw = -np.dot(x[i:i+batch_size, 0], y[i:i+batch_size] - y_pred)\n",
    "                    db = -np.sum(y[i:i+batch_size] - y_pred)\n",
    "                    \n",
    "                    self.slope -= self.lr * dw\n",
    "                    self.intercept -= self.lr * db\n",
    "\n",
    "                    \n",
    "    def predict(self, x):\n",
    "        return np.dot(x, self.slope) + self.intercept"
   ]
  },
  {
   "cell_type": "code",
   "execution_count": 31,
   "metadata": {},
   "outputs": [],
   "source": [
    "def mse(y_true, y_pred):\n",
    "    return np.mean((y_true - y_pred)**2)"
   ]
  },
  {
   "cell_type": "code",
   "execution_count": 90,
   "metadata": {},
   "outputs": [
    {
     "data": {
      "text/plain": [
       "306.42515891088357"
      ]
     },
     "execution_count": 90,
     "metadata": {},
     "output_type": "execute_result"
    }
   ],
   "source": [
    "regressor = LinearRegression(lr=.01)\n",
    "regressor.fit(X_train, y_train, epochs=1000, method=\"mini-batch\", batch_size=10)\n",
    "predictions = regressor.predict(X_test)\n",
    "\n",
    "mse_value = mse(y_test, predictions)\n",
    "mse_value"
   ]
  },
  {
   "cell_type": "code",
   "execution_count": 91,
   "metadata": {},
   "outputs": [
    {
     "data": {
      "text/plain": [
       "<AxesSubplot:>"
      ]
     },
     "execution_count": 91,
     "metadata": {},
     "output_type": "execute_result"
    },
    {
     "data": {
      "image/png": "[encoded data removed]",
      "text/plain": [
       "<Figure size 432x288 with 1 Axes>"
      ]
     },
     "metadata": {
      "needs_background": "light"
     },
     "output_type": "display_data"
    }
   ],
   "source": [
    "y_pred_line = regressor.predict(X)\n",
    "\n",
    "cmap = sns.color_palette(\"viridis\", as_cmap=True)\n",
    "sns.scatterplot(x=X_train.flatten(), y=y_train, color=cmap(0.9), s=20)\n",
    "sns.scatterplot(x=X_test.flatten(), y=y_test, color=cmap(0.5), s=20)\n",
    "\n",
    "sns.lineplot(x=X.flatten(), y=y_pred_line, color=\"k\")"
   ]
  }
 ],
 "metadata": {
  "kernelspec": {
   "display_name": "pytorch",
   "language": "python",
   "name": "pytorch"
  },
  "language_info": {
   "codemirror_mode": {
    "name": "ipython",
    "version": 3
   },
   "file_extension": ".py",
   "mimetype": "text/x-python",
   "name": "python",
   "nbconvert_exporter": "python",
   "pygments_lexer": "ipython3",
   "version": "3.6.10"
  }
 },
 "nbformat": 4,
 "nbformat_minor": 2
}
