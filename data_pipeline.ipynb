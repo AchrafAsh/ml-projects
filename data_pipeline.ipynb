{
 "cells": [
  {
   "cell_type": "code",
   "execution_count": 3,
   "metadata": {},
   "outputs": [],
   "source": [
    "import torch\n",
    "import torchvision\n",
    "from torch.utils.data import Dataset, DataLoader\n",
    "import numpy as np\n",
    "import math"
   ]
  },
  {
   "cell_type": "code",
   "execution_count": 20,
   "metadata": {},
   "outputs": [],
   "source": [
    "class WineDataset(Dataset):\n",
    "    def __init__(self, transform=None):\n",
    "        xy = np.loadtxt('./wine/wine.csv',\n",
    "                        delimiter=\",\", dtype=np.float32,\n",
    "                        skiprows=1)\n",
    "        self.x = xy[:, 1:]\n",
    "        self.y = xy[:, [0]] # n_samples, 1\n",
    "        self.n_samples = xy.shape[0]\n",
    "        self.transform = transform\n",
    "    \n",
    "    def __getitem__(self,idx):\n",
    "        sample = self.x[idx], self.y[idx]\n",
    "        if self.transform:\n",
    "            sample = self.transform(sample)\n",
    "        \n",
    "        return sample\n",
    "    \n",
    "    def __len__(self):\n",
    "        return self.n_samples"
   ]
  },
  {
   "cell_type": "code",
   "execution_count": 23,
   "metadata": {},
   "outputs": [],
   "source": [
    "class ToTensor:\n",
    "    def __call__(self, sample):\n",
    "        inputs, targets = sample\n",
    "        return torch.from_numpy(inputs), torch.from_numpy(targets)\n",
    "    \n",
    "class MulTransform:\n",
    "    def __init__(self, factor):\n",
    "        self.factor = factor\n",
    "    def __call__(self, sample):\n",
    "        inputs, target = sample\n",
    "        inputs *= self.factor\n",
    "        return inputs, target"
   ]
  },
  {
   "cell_type": "code",
   "execution_count": 24,
   "metadata": {},
   "outputs": [
    {
     "data": {
      "text/plain": [
       "(tensor([2.8460e+01, 3.4200e+00, 4.8600e+00, 3.1200e+01, 2.5400e+02, 5.6000e+00,\n",
       "         6.1200e+00, 5.6000e-01, 4.5800e+00, 1.1280e+01, 2.0800e+00, 7.8400e+00,\n",
       "         2.1300e+03]), tensor([1.]))"
      ]
     },
     "execution_count": 24,
     "metadata": {},
     "output_type": "execute_result"
    }
   ],
   "source": [
    "dataset = WineDataset(transform=torchvision.transforms.Compose([\n",
    "    ToTensor(),\n",
    "    MulTransform(2)\n",
    "]))\n",
    "first_data = dataset[0]\n",
    "features, labels = first_data\n",
    "features,labels"
   ]
  },
  {
   "cell_type": "code",
   "execution_count": 9,
   "metadata": {},
   "outputs": [],
   "source": [
    "dataloader = DataLoader(dataset=dataset, batch_size=4,\n",
    "                       shuffle=True, num_workers=2)"
   ]
  },
  {
   "cell_type": "code",
   "execution_count": 17,
   "metadata": {},
   "outputs": [
    {
     "name": "stdout",
     "output_type": "stream",
     "text": [
      "epoch: 1/2 - step: 5/45 - inputs: torch.Size([4, 13])\n",
      "epoch: 1/2 - step: 10/45 - inputs: torch.Size([4, 13])\n",
      "epoch: 1/2 - step: 15/45 - inputs: torch.Size([4, 13])\n",
      "epoch: 1/2 - step: 20/45 - inputs: torch.Size([4, 13])\n",
      "epoch: 1/2 - step: 25/45 - inputs: torch.Size([4, 13])\n",
      "epoch: 1/2 - step: 30/45 - inputs: torch.Size([4, 13])\n",
      "epoch: 1/2 - step: 35/45 - inputs: torch.Size([4, 13])\n",
      "epoch: 1/2 - step: 40/45 - inputs: torch.Size([4, 13])\n",
      "epoch: 1/2 - step: 45/45 - inputs: torch.Size([2, 13])\n",
      "epoch: 2/2 - step: 5/45 - inputs: torch.Size([4, 13])\n",
      "epoch: 2/2 - step: 10/45 - inputs: torch.Size([4, 13])\n",
      "epoch: 2/2 - step: 15/45 - inputs: torch.Size([4, 13])\n",
      "epoch: 2/2 - step: 20/45 - inputs: torch.Size([4, 13])\n",
      "epoch: 2/2 - step: 25/45 - inputs: torch.Size([4, 13])\n",
      "epoch: 2/2 - step: 30/45 - inputs: torch.Size([4, 13])\n",
      "epoch: 2/2 - step: 35/45 - inputs: torch.Size([4, 13])\n",
      "epoch: 2/2 - step: 40/45 - inputs: torch.Size([4, 13])\n",
      "epoch: 2/2 - step: 45/45 - inputs: torch.Size([2, 13])\n"
     ]
    }
   ],
   "source": [
    "# training loop\n",
    "num_epochs = 2\n",
    "total_samples = len(dataset)\n",
    "n_iter = math.ceil(total_samples/4)\n",
    "\n",
    "for epoch in range(num_epochs):\n",
    "    for i, (inputs, labels) in enumerate(dataloader):\n",
    "        # forward and backwards + update weights\n",
    "        if(i+1) % 5 == 0:\n",
    "            print((f\"epoch: {epoch+1}/{num_epochs} - \"\n",
    "            f\"step: {i+1}/{n_iter} - \"\n",
    "            f\"inputs: {inputs.shape}\"))"
   ]
  }
 ],
 "metadata": {
  "kernelspec": {
   "display_name": "pytorch",
   "language": "python",
   "name": "pytorch"
  },
  "language_info": {
   "codemirror_mode": {
    "name": "ipython",
    "version": 3
   },
   "file_extension": ".py",
   "mimetype": "text/x-python",
   "name": "python",
   "nbconvert_exporter": "python",
   "pygments_lexer": "ipython3",
   "version": "3.6.10"
  }
 },
 "nbformat": 4,
 "nbformat_minor": 2
}
